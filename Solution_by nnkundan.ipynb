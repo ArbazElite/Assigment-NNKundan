{
  "cells": [
    {
      "cell_type": "code",
      "execution_count": 1,
      "metadata": {
        "colab": {
          "base_uri": "https://localhost:8080/",
          "height": 73,
          "resources": {
            "http://localhost:8080/nbextensions/google.colab/files.js": {
              "data": "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",
              "headers": [
                [
                  "content-type",
                  "application/javascript"
                ]
              ],
              "ok": true,
              "status": 200,
              "status_text": ""
            }
          }
        },
        "id": "m-4lAO5uAh2A",
        "outputId": "727538a6-5190-4fb9-bba0-487a02c70eaa"
      },
      "outputs": [
        {
          "output_type": "display_data",
          "data": {
            "text/plain": [
              "<IPython.core.display.HTML object>"
            ],
            "text/html": [
              "\n",
              "     <input type=\"file\" id=\"files-9e1f954f-4f2c-4fde-b634-e79c9a1d6129\" name=\"files[]\" multiple disabled\n",
              "        style=\"border:none\" />\n",
              "     <output id=\"result-9e1f954f-4f2c-4fde-b634-e79c9a1d6129\">\n",
              "      Upload widget is only available when the cell has been executed in the\n",
              "      current browser session. Please rerun this cell to enable.\n",
              "      </output>\n",
              "      <script src=\"/nbextensions/google.colab/files.js\"></script> "
            ]
          },
          "metadata": {}
        },
        {
          "output_type": "stream",
          "name": "stdout",
          "text": [
            "Saving training.tar.gz to training.tar.gz\n"
          ]
        }
      ],
      "source": [
        "from google.colab import files\n",
        "uploaded = files.upload()"
      ]
    },
    {
      "cell_type": "code",
      "source": [
        "!tar -xf training.tar.gz"
      ],
      "metadata": {
        "id": "NsCpWSj7J33B"
      },
      "execution_count": 2,
      "outputs": []
    },
    {
      "cell_type": "code",
      "source": [
        "from bs4 import BeautifulSoup"
      ],
      "metadata": {
        "id": "z619sHJPWGB2"
      },
      "execution_count": 3,
      "outputs": []
    },
    {
      "cell_type": "code",
      "source": [
        "import os"
      ],
      "metadata": {
        "id": "mRc-2VydWLUS"
      },
      "execution_count": 4,
      "outputs": []
    },
    {
      "cell_type": "code",
      "source": [
        "files= os.listdir('/content/training/positive/')\n"
      ],
      "metadata": {
        "id": "WPQ23LX0WPST"
      },
      "execution_count": 5,
      "outputs": []
    },
    {
      "cell_type": "code",
      "source": [
        "lst=[]\n",
        "for i in files:\n",
        "  str= '/content/training/positive/'+i\n",
        "  H_file= open(str,'r',encoding='utf-8')\n",
        "  source_code= H_file.read()\n",
        "  soup = BeautifulSoup(source_code,'html.parser')\n",
        "  temp=[]\n",
        "  for x in soup.find_all('p'):\n",
        "    temp.append(x.get_text())\n",
        "  lst.append(temp)"
      ],
      "metadata": {
        "id": "CiY_UwB6Wb9S"
      },
      "execution_count": 6,
      "outputs": []
    },
    {
      "cell_type": "code",
      "source": [
        "pos_lst=[]\n",
        "for i in lst:\n",
        "  pos_lst.append(' '.join(i))\n"
      ],
      "metadata": {
        "id": "Nd3XBaByXFA4"
      },
      "execution_count": 8,
      "outputs": []
    },
    {
      "cell_type": "code",
      "source": [
        "pos_lst[0]"
      ],
      "metadata": {
        "colab": {
          "base_uri": "https://localhost:8080/",
          "height": 174
        },
        "id": "G-Is9ixQYZSE",
        "outputId": "bd639375-6db5-4853-ea3c-be5e8893d1b5"
      },
      "execution_count": 10,
      "outputs": [
        {
          "output_type": "execute_result",
          "data": {
            "text/plain": [
              "'Hyperlipidemia, hyperlipoproteinemia, or hyperlipidaemia (British English) involves abnormally elevated levels of any or all lipids and/or lipoproteins in the blood.[1] It is the most common form of dyslipidemia (which includes any abnormal lipid levels). Lipids (fat-soluble molecules) are transported in a protein capsule. The size of that capsule, or lipoprotein, determines its density. The lipoprotein density and type of apolipoproteins it contains determines the fate of the particle and its influence on metabolism. Hyperlipidemias are divided into primary and secondary subtypes. Primary hyperlipidemia is usually due to genetic causes (such as a mutation in a receptor protein), while secondary hyperlipidemia arises due to other underlying causes such as diabetes. Lipid and lipoprotein abnormalities are common in the general population, and are regarded as a modifiable risk factor for cardiovascular disease due to their influence on atherosclerosis. In addition, some forms may predispose to acute pancreatitis.   Hyperlipidemias may basically be classified as either familial (also called primary[2]) caused by specific genetic abnormalities, or acquired (also called secondary)[2] when resulting from another underlying disorder that leads to alterations in plasma lipid and lipoprotein metabolism.[2] Also, hyperlipidemia may be idiopathic, that is, without known cause. Hyperlipidemias are also classified according to which types of lipids are elevated, that is hypercholesterolemia, hypertriglyceridemia or both in combined hyperlipidemia. Elevated levels of Lipoprotein(a) may also be classified as a form of hyperlipidemia. Familial hyperlipidemias are classified according to the Fredrickson classification, which is based on the pattern of lipoproteins on electrophoresis or ultracentrifugation.[3] It was later adopted by the World Health Organization (WHO). It does not directly account for HDL, and it does not distinguish among the different genes that may be partially responsible for some of these conditions.  Type I hyperlipoproteinemia exists in several forms: Type I hyperlipoproteinemia usually presents in childhood with eruptive xanthomata and abdominal colic. Complications include retinal vein occlusion, acute pancreatitis, steatosis and organomegaly, and lipaemia retinalis. Hyperlipoproteinemia type II, by far the most common form, is further classified into types IIa and IIb, depending mainly on whether elevation in the triglyceride level occurs in addition to LDL cholesterol. This may be sporadic (due to dietary factors), polygenic, or truly familial as a result of a mutation either in the LDL receptor gene on chromosome 19 (0.2% of the population) or the ApoB gene (0.2%). The familial form is characterized by tendon xanthoma, xanthelasma, and premature cardiovascular disease. The incidence of this disease is about one in 500 for heterozygotes, and one in 1,000,000 for homozygotes. HLPIIa is a rare genetic disorder characterized by increased levels of LDL cholesterol in the blood due to the lack of uptake (no Apo B receptors) of LDL particles. This pathology, however, is the second-most common disorder of the various hyperlipoproteinemias, with individuals with a heterozygotic predisposition of one in every 500 and individuals with homozygotic predisposition of one in every million. These individuals may present with a unique set of physical characteristics such as: xanthelasmas (yellow deposits of fat underneath the skin often presenting in the nasal portion of the eye), tendon and tuberous xanthomas, arcus juvenilis (the graying of the eye often characterized in older individuals), arterial bruits, claudication, and of course atherosclerosis. Laboratory findings for these individuals are obvious and yet interesting because their serum cholesterol levels are two to three times greater than normal, as well as increased LDL cholesterol, but their triglycerides and VLDL values fall in the normal ranges. To manage persons with HLPIIa, drastic measures may need to be taken, especially if their HDL cholesterol levels are less than 30\\xa0mg/dl and their LDL levels are greater than 160\\xa0mg/dl. A proper diet for these individuals requires a decrease in total fat to less than 30% of total calories with a ratio of monounsaturated:polyunsaturated:saturated fat of 1:1:1. Cholesterol should be reduced to less than 300\\xa0mg/day, thus the avoidance of animal products and to increase fiber intake to more than 20 g/day with 6g of soluble fiber/day.[citation needed] Exercise should be promoted, as it can increase HDL. The overall prognosis for these individuals is in the worst-case scenario if uncontrolled and untreated individuals may die before the age of 20, but if one seeks a prudent diet with correct medical intervention, the individual may see an increased incidence of xanthomas with each decade, and Achilles tendinitis and accelerated atherosclerosis will occur. The high VLDL levels are due to overproduction of substrates, including triglycerides, acetyl CoA, and an increase in B-100 synthesis. They may also be caused by the decreased clearance of LDL. Prevalence in the population is 10%. This form is due to high chylomicrons and IDL (intermediate density lipoprotein). Also known as broad beta disease or dysbetalipoproteinemia, the most common cause for this form is the presence of ApoE E2/E2 genotype. It is due to cholesterol-rich VLDL (β-VLDL). Its prevalence has been estimated to be approximately 1 in 10,000.[5] It is associated with hypercholesterolaemia (typically 8-12\\xa0mmol/L), hypertriglyceridaemia (typically 5-20\\xa0mmol/L), a normal ApoB concentration, and two types of skin signs (palmar xanthomata or orange discoloration of skin creases, and tuberoeruptive xanthomata on the elbows and knees). It is characterized by the early onset of cardiovascular disease and peripheral vascular disease. Remnant hyperlipidaemia occurs as a result of abnormal function of the ApoE receptor, which is normally required for clearance of chylomicron remnants and IDL from the circulation. The receptor defect causes levels of chylomicron remnants and IDL to be higher than normal in the blood stream. The receptor defect is an autosomal recessive mutation or polymorphism. Familial hypertriglyceridemia is an autosomal dominant condition occurring in approximately 1% of the population.[11] Hyperlipoproteinemia type V, also known as mixed hyperlipoproteinemia familial or mixed hyperlipidemia,[12] is very similar to type I, but with high VLDL in addition to chylomicrons. It is also associated with glucose intolerance and hyperuricemia In medicine, combined hyperlipidemia (or -aemia) (also known as \"multiple-type hyperlipoproteinemia\") is a commonly occurring form of hypercholesterolemia (elevated cholesterol levels) characterised by increased LDL and triglyceride concentrations, often accompanied by decreased HDL.[13] On lipoprotein electrophoresis (a test now rarely performed) it shows as a hyperlipoproteinemia type IIB. It is the most common inherited lipid disorder, occurring in about one in 200 persons. In fact, almost one in five individuals who develop coronary heart disease before the age of 60 have this disorder. The elevated triglyceride levels (>5\\xa0mmol/l) are generally due to an increase in very low density lipoprotein (VLDL), a class of lipoprotein prone to cause atherosclerosis. Types Both conditions are treated with fibrate drugs, which act on the peroxisome proliferator-activated receptors (PPARs), specifically PPARα, to decrease free fatty acid production. Statin drugs, especially the synthetic statins (atorvastatin and rosuvastatin) can decrease LDL levels by increasing hepatic reuptake of LDL due to increased LDL-receptor expression. These unclassified forms are extremely rare: Acquired hyperlipidemias (also called secondary dyslipoproteinemias) often mimic primary forms of hyperlipidemia and can have similar consequences.[2] They may result in increased risk of premature atherosclerosis or, when associated with marked hypertriglyceridemia, may lead to pancreatitis and other complications of the chylomicronemia syndrome.[2] The most common causes of acquired hyperlipidemia are: Other conditions leading to acquired hyperlipidemia include: Treatment of the underlying condition, when possible, or discontinuation of the offending drugs usually leads to an improvement in the hyperlipidemia. Specific lipid-lowering therapy may be required in certain circumstances.[citation needed] Another acquired cause of hyperlipidemia, although not always included in this category, is postprandial hyperlipidemia, a normal increase following ingestion of food.[13][14] For treatment of type II, dietary modification is the initial approach, but many patients require treatment with statins (HMG-CoA reductase inhibitors) to reduce cardiovascular risk. If the triglyceride level is markedly raised, fibrates (peroxisome proliferator-activated receptor-alpha agonists) may be preferable due to their beneficial effects. Combination treatment of statins and fibrates, while highly effective, causes a markedly increased risk of myopathy and rhabdomyolysis, so is only done under close supervision. Other agents commonly added to statins are ezetimibe, niacin, and bile acid sequestrants. Dietary supplementation with fish oil is also used to reduce elevated triglycerides, with the greatest effect occurring in patients with the greatest severity.[15] Some evidence exists for benefit of plant sterol-containing products and omega-3 fatty acids.[16]'"
            ],
            "application/vnd.google.colaboratory.intrinsic+json": {
              "type": "string"
            }
          },
          "metadata": {},
          "execution_count": 10
        }
      ]
    },
    {
      "cell_type": "code",
      "source": [
        "title=[]\n",
        "for i in files:\n",
        "  str= '/content/training/positive/'+i\n",
        "  H_file= open(str,'r',encoding='utf-8')\n",
        "  source_code= H_file.read()\n",
        "  soup = BeautifulSoup(source_code,'html.parser')\n",
        "  temp=[]\n",
        "  for x in soup.find_all('title'):\n",
        "    temp.append(x.get_text())\n",
        "  title.append(temp)"
      ],
      "metadata": {
        "id": "lKEQs6lnYzwg"
      },
      "execution_count": 13,
      "outputs": []
    },
    {
      "cell_type": "code",
      "source": [
        "new_title=[]\n",
        "\n",
        "for i in title:\n",
        "  x=' '.join(i)\n",
        "  new_title.append(x.split('-')[0])"
      ],
      "metadata": {
        "id": "GWWTcEnQY-t3"
      },
      "execution_count": 21,
      "outputs": []
    },
    {
      "cell_type": "code",
      "source": [
        "len(new_title)"
      ],
      "metadata": {
        "colab": {
          "base_uri": "https://localhost:8080/"
        },
        "id": "TlXlEgGfbLAm",
        "outputId": "ea5cc05b-afc9-4f57-d752-1abd776a3ed1"
      },
      "execution_count": 22,
      "outputs": [
        {
          "output_type": "execute_result",
          "data": {
            "text/plain": [
              "3695"
            ]
          },
          "metadata": {},
          "execution_count": 22
        }
      ]
    },
    {
      "cell_type": "code",
      "source": [
        "len(pos_lst)"
      ],
      "metadata": {
        "colab": {
          "base_uri": "https://localhost:8080/"
        },
        "id": "WigB5oCYbxnU",
        "outputId": "0f2767c8-7554-4398-eb5b-17ecfe882724"
      },
      "execution_count": 20,
      "outputs": [
        {
          "output_type": "execute_result",
          "data": {
            "text/plain": [
              "3695"
            ]
          },
          "metadata": {},
          "execution_count": 20
        }
      ]
    },
    {
      "cell_type": "code",
      "source": [
        "import pandas as pd\n",
        "df_pos= pd.DataFrame({'Text': pos_lst,'Title':new_title})"
      ],
      "metadata": {
        "id": "25bD8CQdb0uR"
      },
      "execution_count": 24,
      "outputs": []
    },
    {
      "cell_type": "code",
      "source": [
        "df_pos['Class']='Disease'"
      ],
      "metadata": {
        "id": "LqLVnzracgjw"
      },
      "execution_count": 26,
      "outputs": []
    },
    {
      "cell_type": "code",
      "source": [
        "df_pos.head()"
      ],
      "metadata": {
        "colab": {
          "base_uri": "https://localhost:8080/",
          "height": 206
        },
        "id": "0dMuc0M0ciZl",
        "outputId": "760bb8b5-2c8b-4209-981c-2f980253cc91"
      },
      "execution_count": 27,
      "outputs": [
        {
          "output_type": "execute_result",
          "data": {
            "text/plain": [
              "                                                Text                    Title  \\\n",
              "0  Hyperlipidemia, hyperlipoproteinemia, or hyper...          Hyperlipidemia    \n",
              "1  Acute myeloid leukemia (AML), also known as ac...  Acute myeloid leukemia    \n",
              "2  Hypertropia is a condition of misalignment of ...             Hypertropia    \n",
              "3  Pashayan syndrome also known as Pashayan–Proza...       Pashayan syndrome    \n",
              "4  Periodontitis /ˌpɛrioʊdɒnˈtaɪtɪs/ or pyorrhea ...           Periodontitis    \n",
              "\n",
              "     Class  \n",
              "0  Disease  \n",
              "1  Disease  \n",
              "2  Disease  \n",
              "3  Disease  \n",
              "4  Disease  "
            ],
            "text/html": [
              "\n",
              "  <div id=\"df-95936b74-2b76-435d-8338-8f0cd349de2b\">\n",
              "    <div class=\"colab-df-container\">\n",
              "      <div>\n",
              "<style scoped>\n",
              "    .dataframe tbody tr th:only-of-type {\n",
              "        vertical-align: middle;\n",
              "    }\n",
              "\n",
              "    .dataframe tbody tr th {\n",
              "        vertical-align: top;\n",
              "    }\n",
              "\n",
              "    .dataframe thead th {\n",
              "        text-align: right;\n",
              "    }\n",
              "</style>\n",
              "<table border=\"1\" class=\"dataframe\">\n",
              "  <thead>\n",
              "    <tr style=\"text-align: right;\">\n",
              "      <th></th>\n",
              "      <th>Text</th>\n",
              "      <th>Title</th>\n",
              "      <th>Class</th>\n",
              "    </tr>\n",
              "  </thead>\n",
              "  <tbody>\n",
              "    <tr>\n",
              "      <th>0</th>\n",
              "      <td>Hyperlipidemia, hyperlipoproteinemia, or hyper...</td>\n",
              "      <td>Hyperlipidemia</td>\n",
              "      <td>Disease</td>\n",
              "    </tr>\n",
              "    <tr>\n",
              "      <th>1</th>\n",
              "      <td>Acute myeloid leukemia (AML), also known as ac...</td>\n",
              "      <td>Acute myeloid leukemia</td>\n",
              "      <td>Disease</td>\n",
              "    </tr>\n",
              "    <tr>\n",
              "      <th>2</th>\n",
              "      <td>Hypertropia is a condition of misalignment of ...</td>\n",
              "      <td>Hypertropia</td>\n",
              "      <td>Disease</td>\n",
              "    </tr>\n",
              "    <tr>\n",
              "      <th>3</th>\n",
              "      <td>Pashayan syndrome also known as Pashayan–Proza...</td>\n",
              "      <td>Pashayan syndrome</td>\n",
              "      <td>Disease</td>\n",
              "    </tr>\n",
              "    <tr>\n",
              "      <th>4</th>\n",
              "      <td>Periodontitis /ˌpɛrioʊdɒnˈtaɪtɪs/ or pyorrhea ...</td>\n",
              "      <td>Periodontitis</td>\n",
              "      <td>Disease</td>\n",
              "    </tr>\n",
              "  </tbody>\n",
              "</table>\n",
              "</div>\n",
              "      <button class=\"colab-df-convert\" onclick=\"convertToInteractive('df-95936b74-2b76-435d-8338-8f0cd349de2b')\"\n",
              "              title=\"Convert this dataframe to an interactive table.\"\n",
              "              style=\"display:none;\">\n",
              "        \n",
              "  <svg xmlns=\"http://www.w3.org/2000/svg\" height=\"24px\"viewBox=\"0 0 24 24\"\n",
              "       width=\"24px\">\n",
              "    <path d=\"M0 0h24v24H0V0z\" fill=\"none\"/>\n",
              "    <path d=\"M18.56 5.44l.94 2.06.94-2.06 2.06-.94-2.06-.94-.94-2.06-.94 2.06-2.06.94zm-11 1L8.5 8.5l.94-2.06 2.06-.94-2.06-.94L8.5 2.5l-.94 2.06-2.06.94zm10 10l.94 2.06.94-2.06 2.06-.94-2.06-.94-.94-2.06-.94 2.06-2.06.94z\"/><path d=\"M17.41 7.96l-1.37-1.37c-.4-.4-.92-.59-1.43-.59-.52 0-1.04.2-1.43.59L10.3 9.45l-7.72 7.72c-.78.78-.78 2.05 0 2.83L4 21.41c.39.39.9.59 1.41.59.51 0 1.02-.2 1.41-.59l7.78-7.78 2.81-2.81c.8-.78.8-2.07 0-2.86zM5.41 20L4 18.59l7.72-7.72 1.47 1.35L5.41 20z\"/>\n",
              "  </svg>\n",
              "      </button>\n",
              "      \n",
              "  <style>\n",
              "    .colab-df-container {\n",
              "      display:flex;\n",
              "      flex-wrap:wrap;\n",
              "      gap: 12px;\n",
              "    }\n",
              "\n",
              "    .colab-df-convert {\n",
              "      background-color: #E8F0FE;\n",
              "      border: none;\n",
              "      border-radius: 50%;\n",
              "      cursor: pointer;\n",
              "      display: none;\n",
              "      fill: #1967D2;\n",
              "      height: 32px;\n",
              "      padding: 0 0 0 0;\n",
              "      width: 32px;\n",
              "    }\n",
              "\n",
              "    .colab-df-convert:hover {\n",
              "      background-color: #E2EBFA;\n",
              "      box-shadow: 0px 1px 2px rgba(60, 64, 67, 0.3), 0px 1px 3px 1px rgba(60, 64, 67, 0.15);\n",
              "      fill: #174EA6;\n",
              "    }\n",
              "\n",
              "    [theme=dark] .colab-df-convert {\n",
              "      background-color: #3B4455;\n",
              "      fill: #D2E3FC;\n",
              "    }\n",
              "\n",
              "    [theme=dark] .colab-df-convert:hover {\n",
              "      background-color: #434B5C;\n",
              "      box-shadow: 0px 1px 3px 1px rgba(0, 0, 0, 0.15);\n",
              "      filter: drop-shadow(0px 1px 2px rgba(0, 0, 0, 0.3));\n",
              "      fill: #FFFFFF;\n",
              "    }\n",
              "  </style>\n",
              "\n",
              "      <script>\n",
              "        const buttonEl =\n",
              "          document.querySelector('#df-95936b74-2b76-435d-8338-8f0cd349de2b button.colab-df-convert');\n",
              "        buttonEl.style.display =\n",
              "          google.colab.kernel.accessAllowed ? 'block' : 'none';\n",
              "\n",
              "        async function convertToInteractive(key) {\n",
              "          const element = document.querySelector('#df-95936b74-2b76-435d-8338-8f0cd349de2b');\n",
              "          const dataTable =\n",
              "            await google.colab.kernel.invokeFunction('convertToInteractive',\n",
              "                                                     [key], {});\n",
              "          if (!dataTable) return;\n",
              "\n",
              "          const docLinkHtml = 'Like what you see? Visit the ' +\n",
              "            '<a target=\"_blank\" href=https://colab.research.google.com/notebooks/data_table.ipynb>data table notebook</a>'\n",
              "            + ' to learn more about interactive tables.';\n",
              "          element.innerHTML = '';\n",
              "          dataTable['output_type'] = 'display_data';\n",
              "          await google.colab.output.renderOutput(dataTable, element);\n",
              "          const docLink = document.createElement('div');\n",
              "          docLink.innerHTML = docLinkHtml;\n",
              "          element.appendChild(docLink);\n",
              "        }\n",
              "      </script>\n",
              "    </div>\n",
              "  </div>\n",
              "  "
            ]
          },
          "metadata": {},
          "execution_count": 27
        }
      ]
    },
    {
      "cell_type": "code",
      "source": [
        "files= os.listdir('/content/training/negative/')\n",
        "lst=[]\n",
        "for i in files:\n",
        "  str= '/content/training/negative/'+i\n",
        "  H_file= open(str,'r',encoding='utf-8')\n",
        "  source_code= H_file.read()\n",
        "  soup = BeautifulSoup(source_code,'html.parser')\n",
        "  temp=[]\n",
        "  for x in soup.find_all('p'):\n",
        "    temp.append(x.get_text())\n",
        "  lst.append(temp)\n",
        "\n",
        "pos_lst=[]\n",
        "for i in lst:\n",
        "  pos_lst.append(' '.join(i))\n",
        "\n",
        "\n",
        "title=[]\n",
        "for i in files:\n",
        "  str= '/content/training/negative/'+i\n",
        "  H_file= open(str,'r',encoding='utf-8')\n",
        "  source_code= H_file.read()\n",
        "  soup = BeautifulSoup(source_code,'html.parser')\n",
        "  temp=[]\n",
        "  for x in soup.find_all('title'):\n",
        "    temp.append(x.get_text())\n",
        "  title.append(temp)\n",
        "\n",
        "\n",
        "new_title=[]\n",
        "\n",
        "for i in title:\n",
        "  x=' '.join(i)\n",
        "  new_title.append(x.split('-')[0])\n",
        "\n",
        "import pandas as pd\n",
        "df_neg= pd.DataFrame({'Text': pos_lst,'Title':new_title})"
      ],
      "metadata": {
        "id": "LpNyeOv2c2R0"
      },
      "execution_count": 28,
      "outputs": []
    },
    {
      "cell_type": "code",
      "source": [
        "df_neg['Class']= 'No Disease'"
      ],
      "metadata": {
        "id": "JvU7IcYGdXYc"
      },
      "execution_count": 30,
      "outputs": []
    },
    {
      "cell_type": "code",
      "source": [
        "df_pos.dtypes"
      ],
      "metadata": {
        "colab": {
          "base_uri": "https://localhost:8080/"
        },
        "id": "i37V1611h2mG",
        "outputId": "5d2ab935-b5a0-4bf2-cff2-959b26281bb1"
      },
      "execution_count": 32,
      "outputs": [
        {
          "output_type": "execute_result",
          "data": {
            "text/plain": [
              "Text     object\n",
              "Title    object\n",
              "Class    object\n",
              "dtype: object"
            ]
          },
          "metadata": {},
          "execution_count": 32
        }
      ]
    },
    {
      "cell_type": "code",
      "source": [
        "df_neg.dtypes"
      ],
      "metadata": {
        "colab": {
          "base_uri": "https://localhost:8080/"
        },
        "id": "cad3zVufh5Wm",
        "outputId": "998db5d6-830f-44e5-c385-f251d38bd110"
      },
      "execution_count": 33,
      "outputs": [
        {
          "output_type": "execute_result",
          "data": {
            "text/plain": [
              "Text     object\n",
              "Title    object\n",
              "Class    object\n",
              "dtype: object"
            ]
          },
          "metadata": {},
          "execution_count": 33
        }
      ]
    },
    {
      "cell_type": "code",
      "source": [
        "df_final=pd.concat([df_pos,df_neg])"
      ],
      "metadata": {
        "id": "zh4NPO88hKdU"
      },
      "execution_count": 34,
      "outputs": []
    },
    {
      "cell_type": "code",
      "source": [
        "df_final.head()"
      ],
      "metadata": {
        "colab": {
          "base_uri": "https://localhost:8080/",
          "height": 206
        },
        "id": "xS-OPLmWhhIU",
        "outputId": "017e1175-1a6e-4686-b43b-a00527808414"
      },
      "execution_count": 35,
      "outputs": [
        {
          "output_type": "execute_result",
          "data": {
            "text/plain": [
              "                                                Text                    Title  \\\n",
              "0  Hyperlipidemia, hyperlipoproteinemia, or hyper...          Hyperlipidemia    \n",
              "1  Acute myeloid leukemia (AML), also known as ac...  Acute myeloid leukemia    \n",
              "2  Hypertropia is a condition of misalignment of ...             Hypertropia    \n",
              "3  Pashayan syndrome also known as Pashayan–Proza...       Pashayan syndrome    \n",
              "4  Periodontitis /ˌpɛrioʊdɒnˈtaɪtɪs/ or pyorrhea ...           Periodontitis    \n",
              "\n",
              "     Class  \n",
              "0  Disease  \n",
              "1  Disease  \n",
              "2  Disease  \n",
              "3  Disease  \n",
              "4  Disease  "
            ],
            "text/html": [
              "\n",
              "  <div id=\"df-27d2700d-35fe-443c-9a17-792c3b35e062\">\n",
              "    <div class=\"colab-df-container\">\n",
              "      <div>\n",
              "<style scoped>\n",
              "    .dataframe tbody tr th:only-of-type {\n",
              "        vertical-align: middle;\n",
              "    }\n",
              "\n",
              "    .dataframe tbody tr th {\n",
              "        vertical-align: top;\n",
              "    }\n",
              "\n",
              "    .dataframe thead th {\n",
              "        text-align: right;\n",
              "    }\n",
              "</style>\n",
              "<table border=\"1\" class=\"dataframe\">\n",
              "  <thead>\n",
              "    <tr style=\"text-align: right;\">\n",
              "      <th></th>\n",
              "      <th>Text</th>\n",
              "      <th>Title</th>\n",
              "      <th>Class</th>\n",
              "    </tr>\n",
              "  </thead>\n",
              "  <tbody>\n",
              "    <tr>\n",
              "      <th>0</th>\n",
              "      <td>Hyperlipidemia, hyperlipoproteinemia, or hyper...</td>\n",
              "      <td>Hyperlipidemia</td>\n",
              "      <td>Disease</td>\n",
              "    </tr>\n",
              "    <tr>\n",
              "      <th>1</th>\n",
              "      <td>Acute myeloid leukemia (AML), also known as ac...</td>\n",
              "      <td>Acute myeloid leukemia</td>\n",
              "      <td>Disease</td>\n",
              "    </tr>\n",
              "    <tr>\n",
              "      <th>2</th>\n",
              "      <td>Hypertropia is a condition of misalignment of ...</td>\n",
              "      <td>Hypertropia</td>\n",
              "      <td>Disease</td>\n",
              "    </tr>\n",
              "    <tr>\n",
              "      <th>3</th>\n",
              "      <td>Pashayan syndrome also known as Pashayan–Proza...</td>\n",
              "      <td>Pashayan syndrome</td>\n",
              "      <td>Disease</td>\n",
              "    </tr>\n",
              "    <tr>\n",
              "      <th>4</th>\n",
              "      <td>Periodontitis /ˌpɛrioʊdɒnˈtaɪtɪs/ or pyorrhea ...</td>\n",
              "      <td>Periodontitis</td>\n",
              "      <td>Disease</td>\n",
              "    </tr>\n",
              "  </tbody>\n",
              "</table>\n",
              "</div>\n",
              "      <button class=\"colab-df-convert\" onclick=\"convertToInteractive('df-27d2700d-35fe-443c-9a17-792c3b35e062')\"\n",
              "              title=\"Convert this dataframe to an interactive table.\"\n",
              "              style=\"display:none;\">\n",
              "        \n",
              "  <svg xmlns=\"http://www.w3.org/2000/svg\" height=\"24px\"viewBox=\"0 0 24 24\"\n",
              "       width=\"24px\">\n",
              "    <path d=\"M0 0h24v24H0V0z\" fill=\"none\"/>\n",
              "    <path d=\"M18.56 5.44l.94 2.06.94-2.06 2.06-.94-2.06-.94-.94-2.06-.94 2.06-2.06.94zm-11 1L8.5 8.5l.94-2.06 2.06-.94-2.06-.94L8.5 2.5l-.94 2.06-2.06.94zm10 10l.94 2.06.94-2.06 2.06-.94-2.06-.94-.94-2.06-.94 2.06-2.06.94z\"/><path d=\"M17.41 7.96l-1.37-1.37c-.4-.4-.92-.59-1.43-.59-.52 0-1.04.2-1.43.59L10.3 9.45l-7.72 7.72c-.78.78-.78 2.05 0 2.83L4 21.41c.39.39.9.59 1.41.59.51 0 1.02-.2 1.41-.59l7.78-7.78 2.81-2.81c.8-.78.8-2.07 0-2.86zM5.41 20L4 18.59l7.72-7.72 1.47 1.35L5.41 20z\"/>\n",
              "  </svg>\n",
              "      </button>\n",
              "      \n",
              "  <style>\n",
              "    .colab-df-container {\n",
              "      display:flex;\n",
              "      flex-wrap:wrap;\n",
              "      gap: 12px;\n",
              "    }\n",
              "\n",
              "    .colab-df-convert {\n",
              "      background-color: #E8F0FE;\n",
              "      border: none;\n",
              "      border-radius: 50%;\n",
              "      cursor: pointer;\n",
              "      display: none;\n",
              "      fill: #1967D2;\n",
              "      height: 32px;\n",
              "      padding: 0 0 0 0;\n",
              "      width: 32px;\n",
              "    }\n",
              "\n",
              "    .colab-df-convert:hover {\n",
              "      background-color: #E2EBFA;\n",
              "      box-shadow: 0px 1px 2px rgba(60, 64, 67, 0.3), 0px 1px 3px 1px rgba(60, 64, 67, 0.15);\n",
              "      fill: #174EA6;\n",
              "    }\n",
              "\n",
              "    [theme=dark] .colab-df-convert {\n",
              "      background-color: #3B4455;\n",
              "      fill: #D2E3FC;\n",
              "    }\n",
              "\n",
              "    [theme=dark] .colab-df-convert:hover {\n",
              "      background-color: #434B5C;\n",
              "      box-shadow: 0px 1px 3px 1px rgba(0, 0, 0, 0.15);\n",
              "      filter: drop-shadow(0px 1px 2px rgba(0, 0, 0, 0.3));\n",
              "      fill: #FFFFFF;\n",
              "    }\n",
              "  </style>\n",
              "\n",
              "      <script>\n",
              "        const buttonEl =\n",
              "          document.querySelector('#df-27d2700d-35fe-443c-9a17-792c3b35e062 button.colab-df-convert');\n",
              "        buttonEl.style.display =\n",
              "          google.colab.kernel.accessAllowed ? 'block' : 'none';\n",
              "\n",
              "        async function convertToInteractive(key) {\n",
              "          const element = document.querySelector('#df-27d2700d-35fe-443c-9a17-792c3b35e062');\n",
              "          const dataTable =\n",
              "            await google.colab.kernel.invokeFunction('convertToInteractive',\n",
              "                                                     [key], {});\n",
              "          if (!dataTable) return;\n",
              "\n",
              "          const docLinkHtml = 'Like what you see? Visit the ' +\n",
              "            '<a target=\"_blank\" href=https://colab.research.google.com/notebooks/data_table.ipynb>data table notebook</a>'\n",
              "            + ' to learn more about interactive tables.';\n",
              "          element.innerHTML = '';\n",
              "          dataTable['output_type'] = 'display_data';\n",
              "          await google.colab.output.renderOutput(dataTable, element);\n",
              "          const docLink = document.createElement('div');\n",
              "          docLink.innerHTML = docLinkHtml;\n",
              "          element.appendChild(docLink);\n",
              "        }\n",
              "      </script>\n",
              "    </div>\n",
              "  </div>\n",
              "  "
            ]
          },
          "metadata": {},
          "execution_count": 35
        }
      ]
    },
    {
      "cell_type": "code",
      "source": [
        "X=df_final['Text']\n",
        "y= df_final['Class']"
      ],
      "metadata": {
        "id": "2yv052QRkMKp"
      },
      "execution_count": 38,
      "outputs": []
    },
    {
      "cell_type": "code",
      "source": [
        "import numpy as np\n",
        "import matplotlib.pyplot as plt\n",
        "import re \n",
        "import nltk \n",
        "from nltk.corpus import stopwords\n",
        "from nltk.stem.porter import PorterStemmer \n",
        "from sklearn.feature_extraction.text import CountVectorizer,TfidfVectorizer\n",
        "from sklearn import svm\n",
        "from sklearn.metrics import confusion_matrix,classification_report\n",
        "from sklearn.model_selection import KFold,cross_val_score\n",
        "from sklearn.model_selection import GridSearchCV\n",
        "from sklearn.model_selection import train_test_split"
      ],
      "metadata": {
        "id": "on2arXLpiI3W"
      },
      "execution_count": 37,
      "outputs": []
    },
    {
      "cell_type": "code",
      "source": [
        "X_train,X_test,y_train,y_test= train_test_split(X,y,test_size=0.33,random_state=42,stratify=y)"
      ],
      "metadata": {
        "id": "OHc_MjG3j8zA"
      },
      "execution_count": 39,
      "outputs": []
    },
    {
      "cell_type": "code",
      "source": [
        "X_train.reset_index(inplace=True,drop=True)\n",
        "X_test.reset_index(inplace=True,drop=True)"
      ],
      "metadata": {
        "id": "zLYAY2VWlWgX"
      },
      "execution_count": 42,
      "outputs": []
    },
    {
      "cell_type": "code",
      "source": [
        "nltk.download('stopwords')\n",
        "stop= set(stopwords.words('english'))\n",
        "corpus=[]\n",
        "for i in range(0,X_train.shape[0]):\n",
        "  text=re.sub('[^a-zA-Z]',' ',X_train[i])\n",
        "  text=text.lower()\n",
        "  text=text.split()\n",
        "  text= [ w for w in text if not w in stop]\n",
        "  ps =PorterStemmer()\n",
        "  stemmed_tokens= [ps.stem(words) for words in text]\n",
        "  corpus.append(' '.join(stemmed_tokens))"
      ],
      "metadata": {
        "colab": {
          "base_uri": "https://localhost:8080/"
        },
        "id": "BMkFcm_RjsOi",
        "outputId": "485f1a15-af63-4df9-9e82-2e5fcc235f28"
      },
      "execution_count": 43,
      "outputs": [
        {
          "output_type": "stream",
          "name": "stdout",
          "text": [
            "[nltk_data] Downloading package stopwords to /root/nltk_data...\n",
            "[nltk_data]   Package stopwords is already up-to-date!\n"
          ]
        }
      ]
    },
    {
      "cell_type": "code",
      "source": [
        "tfidf = TfidfVectorizer()\n",
        "train_X= tfidf.fit_transform(corpus)"
      ],
      "metadata": {
        "id": "HPls1JAylR49"
      },
      "execution_count": 45,
      "outputs": []
    },
    {
      "cell_type": "code",
      "source": [
        "param_grid={'C':[0.1,1,10,100,1000],'gamma':[1,0.1,0.01,0.001,0.0001],'kernel':['rbf','linear']}\n",
        "grid= GridSearchCV(svm.SVC(),param_grid,cv=4,scoring='roc_auc',return_train_score=True,refit= True,verbose=3)\n",
        "grid.fit(train_X,y_train)"
      ],
      "metadata": {
        "colab": {
          "base_uri": "https://localhost:8080/"
        },
        "id": "n_ykQjrXmtFR",
        "outputId": "21c0f78c-af90-4962-b2e9-3ce4a73c9698"
      },
      "execution_count": 46,
      "outputs": [
        {
          "output_type": "stream",
          "name": "stdout",
          "text": [
            "Fitting 4 folds for each of 50 candidates, totalling 200 fits\n",
            "[CV 1/4] END C=0.1, gamma=1, kernel=rbf;, score=(train=0.999, test=0.997) total time=  58.5s\n",
            "[CV 2/4] END C=0.1, gamma=1, kernel=rbf;, score=(train=0.999, test=0.999) total time=  57.1s\n",
            "[CV 3/4] END C=0.1, gamma=1, kernel=rbf;, score=(train=0.999, test=0.997) total time=  57.9s\n",
            "[CV 4/4] END C=0.1, gamma=1, kernel=rbf;, score=(train=0.999, test=0.998) total time=  58.8s\n",
            "[CV 1/4] END C=0.1, gamma=1, kernel=linear;, score=(train=0.999, test=0.998) total time=  28.7s\n",
            "[CV 2/4] END C=0.1, gamma=1, kernel=linear;, score=(train=0.999, test=0.999) total time=  28.4s\n",
            "[CV 3/4] END C=0.1, gamma=1, kernel=linear;, score=(train=1.000, test=0.998) total time=  29.4s\n",
            "[CV 4/4] END C=0.1, gamma=1, kernel=linear;, score=(train=0.999, test=0.998) total time=  29.0s\n",
            "[CV 1/4] END C=0.1, gamma=0.1, kernel=rbf;, score=(train=0.998, test=0.997) total time=  59.9s\n",
            "[CV 2/4] END C=0.1, gamma=0.1, kernel=rbf;, score=(train=0.998, test=0.999) total time= 1.0min\n",
            "[CV 3/4] END C=0.1, gamma=0.1, kernel=rbf;, score=(train=0.999, test=0.997) total time= 1.0min\n",
            "[CV 4/4] END C=0.1, gamma=0.1, kernel=rbf;, score=(train=0.998, test=0.998) total time= 1.0min\n",
            "[CV 1/4] END C=0.1, gamma=0.1, kernel=linear;, score=(train=0.999, test=0.998) total time=  29.9s\n",
            "[CV 2/4] END C=0.1, gamma=0.1, kernel=linear;, score=(train=0.999, test=0.999) total time=  29.3s\n",
            "[CV 3/4] END C=0.1, gamma=0.1, kernel=linear;, score=(train=1.000, test=0.998) total time=  30.9s\n",
            "[CV 4/4] END C=0.1, gamma=0.1, kernel=linear;, score=(train=0.999, test=0.998) total time=  30.4s\n",
            "[CV 1/4] END C=0.1, gamma=0.01, kernel=rbf;, score=(train=0.998, test=0.997) total time= 1.1min\n",
            "[CV 2/4] END C=0.1, gamma=0.01, kernel=rbf;, score=(train=0.998, test=0.999) total time= 1.1min\n",
            "[CV 3/4] END C=0.1, gamma=0.01, kernel=rbf;, score=(train=0.999, test=0.997) total time= 1.1min\n",
            "[CV 4/4] END C=0.1, gamma=0.01, kernel=rbf;, score=(train=0.998, test=0.998) total time= 1.1min\n",
            "[CV 1/4] END C=0.1, gamma=0.01, kernel=linear;, score=(train=0.999, test=0.998) total time=  31.0s\n",
            "[CV 2/4] END C=0.1, gamma=0.01, kernel=linear;, score=(train=0.999, test=0.999) total time=  31.4s\n",
            "[CV 3/4] END C=0.1, gamma=0.01, kernel=linear;, score=(train=1.000, test=0.998) total time=  31.2s\n",
            "[CV 4/4] END C=0.1, gamma=0.01, kernel=linear;, score=(train=0.999, test=0.998) total time=  30.2s\n",
            "[CV 1/4] END C=0.1, gamma=0.001, kernel=rbf;, score=(train=0.998, test=0.997) total time= 1.1min\n",
            "[CV 2/4] END C=0.1, gamma=0.001, kernel=rbf;, score=(train=0.998, test=0.999) total time= 1.1min\n",
            "[CV 3/4] END C=0.1, gamma=0.001, kernel=rbf;, score=(train=0.999, test=0.997) total time= 1.1min\n",
            "[CV 4/4] END C=0.1, gamma=0.001, kernel=rbf;, score=(train=0.998, test=0.998) total time= 1.1min\n",
            "[CV 1/4] END C=0.1, gamma=0.001, kernel=linear;, score=(train=0.999, test=0.998) total time=  31.7s\n",
            "[CV 2/4] END C=0.1, gamma=0.001, kernel=linear;, score=(train=0.999, test=0.999) total time=  33.8s\n",
            "[CV 3/4] END C=0.1, gamma=0.001, kernel=linear;, score=(train=1.000, test=0.998) total time=  35.5s\n",
            "[CV 4/4] END C=0.1, gamma=0.001, kernel=linear;, score=(train=0.999, test=0.998) total time=  32.2s\n",
            "[CV 1/4] END C=0.1, gamma=0.0001, kernel=rbf;, score=(train=0.999, test=0.998) total time= 1.0min\n",
            "[CV 2/4] END C=0.1, gamma=0.0001, kernel=rbf;, score=(train=0.998, test=0.999) total time= 1.1min\n",
            "[CV 3/4] END C=0.1, gamma=0.0001, kernel=rbf;, score=(train=0.999, test=0.998) total time= 1.1min\n",
            "[CV 4/4] END C=0.1, gamma=0.0001, kernel=rbf;, score=(train=0.998, test=0.998) total time=  60.0s\n",
            "[CV 1/4] END C=0.1, gamma=0.0001, kernel=linear;, score=(train=0.999, test=0.998) total time=  29.7s\n",
            "[CV 2/4] END C=0.1, gamma=0.0001, kernel=linear;, score=(train=0.999, test=0.999) total time=  31.0s\n",
            "[CV 3/4] END C=0.1, gamma=0.0001, kernel=linear;, score=(train=1.000, test=0.998) total time=  31.6s\n",
            "[CV 4/4] END C=0.1, gamma=0.0001, kernel=linear;, score=(train=0.999, test=0.998) total time=  29.8s\n",
            "[CV 1/4] END C=1, gamma=1, kernel=rbf;, score=(train=1.000, test=0.998) total time=  40.1s\n",
            "[CV 2/4] END C=1, gamma=1, kernel=rbf;, score=(train=0.999, test=1.000) total time=  40.4s\n",
            "[CV 3/4] END C=1, gamma=1, kernel=rbf;, score=(train=1.000, test=0.997) total time=  41.2s\n",
            "[CV 4/4] END C=1, gamma=1, kernel=rbf;, score=(train=0.999, test=0.998) total time=  41.1s\n",
            "[CV 1/4] END C=1, gamma=1, kernel=linear;, score=(train=1.000, test=0.999) total time=  18.9s\n",
            "[CV 2/4] END C=1, gamma=1, kernel=linear;, score=(train=1.000, test=1.000) total time=  19.4s\n",
            "[CV 3/4] END C=1, gamma=1, kernel=linear;, score=(train=1.000, test=0.998) total time=  20.4s\n",
            "[CV 4/4] END C=1, gamma=1, kernel=linear;, score=(train=1.000, test=0.997) total time=  19.7s\n",
            "[CV 1/4] END C=1, gamma=0.1, kernel=rbf;, score=(train=1.000, test=0.998) total time=  26.5s\n",
            "[CV 2/4] END C=1, gamma=0.1, kernel=rbf;, score=(train=1.000, test=1.000) total time=  27.3s\n",
            "[CV 3/4] END C=1, gamma=0.1, kernel=rbf;, score=(train=1.000, test=0.997) total time=  27.8s\n",
            "[CV 4/4] END C=1, gamma=0.1, kernel=rbf;, score=(train=1.000, test=0.998) total time=  27.3s\n",
            "[CV 1/4] END C=1, gamma=0.1, kernel=linear;, score=(train=1.000, test=0.999) total time=  18.4s\n",
            "[CV 2/4] END C=1, gamma=0.1, kernel=linear;, score=(train=1.000, test=1.000) total time=  19.4s\n",
            "[CV 3/4] END C=1, gamma=0.1, kernel=linear;, score=(train=1.000, test=0.998) total time=  19.5s\n",
            "[CV 4/4] END C=1, gamma=0.1, kernel=linear;, score=(train=1.000, test=0.997) total time=  19.4s\n",
            "[CV 1/4] END C=1, gamma=0.01, kernel=rbf;, score=(train=0.998, test=0.997) total time=  58.9s\n",
            "[CV 2/4] END C=1, gamma=0.01, kernel=rbf;, score=(train=0.998, test=0.999) total time=  59.9s\n",
            "[CV 3/4] END C=1, gamma=0.01, kernel=rbf;, score=(train=0.999, test=0.997) total time=  59.1s\n",
            "[CV 4/4] END C=1, gamma=0.01, kernel=rbf;, score=(train=0.998, test=0.998) total time=  59.4s\n",
            "[CV 1/4] END C=1, gamma=0.01, kernel=linear;, score=(train=1.000, test=0.999) total time=  18.2s\n",
            "[CV 2/4] END C=1, gamma=0.01, kernel=linear;, score=(train=1.000, test=1.000) total time=  19.7s\n",
            "[CV 3/4] END C=1, gamma=0.01, kernel=linear;, score=(train=1.000, test=0.998) total time=  20.0s\n",
            "[CV 4/4] END C=1, gamma=0.01, kernel=linear;, score=(train=1.000, test=0.997) total time=  19.5s\n",
            "[CV 1/4] END C=1, gamma=0.001, kernel=rbf;, score=(train=0.998, test=0.997) total time= 1.1min\n",
            "[CV 2/4] END C=1, gamma=0.001, kernel=rbf;, score=(train=0.998, test=0.999) total time= 1.1min\n",
            "[CV 3/4] END C=1, gamma=0.001, kernel=rbf;, score=(train=0.999, test=0.997) total time= 1.1min\n",
            "[CV 4/4] END C=1, gamma=0.001, kernel=rbf;, score=(train=0.998, test=0.998) total time= 1.1min\n",
            "[CV 1/4] END C=1, gamma=0.001, kernel=linear;, score=(train=1.000, test=0.999) total time=  19.2s\n",
            "[CV 2/4] END C=1, gamma=0.001, kernel=linear;, score=(train=1.000, test=1.000) total time=  19.6s\n",
            "[CV 3/4] END C=1, gamma=0.001, kernel=linear;, score=(train=1.000, test=0.998) total time=  20.4s\n",
            "[CV 4/4] END C=1, gamma=0.001, kernel=linear;, score=(train=1.000, test=0.997) total time=  19.9s\n",
            "[CV 1/4] END C=1, gamma=0.0001, kernel=rbf;, score=(train=0.998, test=0.997) total time= 1.1min\n",
            "[CV 2/4] END C=1, gamma=0.0001, kernel=rbf;, score=(train=0.998, test=0.999) total time= 1.1min\n",
            "[CV 3/4] END C=1, gamma=0.0001, kernel=rbf;, score=(train=0.999, test=0.997) total time= 1.1min\n",
            "[CV 4/4] END C=1, gamma=0.0001, kernel=rbf;, score=(train=0.998, test=0.998) total time= 1.1min\n",
            "[CV 1/4] END C=1, gamma=0.0001, kernel=linear;, score=(train=1.000, test=0.999) total time=  18.9s\n",
            "[CV 2/4] END C=1, gamma=0.0001, kernel=linear;, score=(train=1.000, test=1.000) total time=  20.2s\n",
            "[CV 3/4] END C=1, gamma=0.0001, kernel=linear;, score=(train=1.000, test=0.998) total time=  21.3s\n",
            "[CV 4/4] END C=1, gamma=0.0001, kernel=linear;, score=(train=1.000, test=0.997) total time=  22.0s\n",
            "[CV 1/4] END C=10, gamma=1, kernel=rbf;, score=(train=1.000, test=0.998) total time=  57.8s\n",
            "[CV 2/4] END C=10, gamma=1, kernel=rbf;, score=(train=0.999, test=1.000) total time=  56.4s\n",
            "[CV 3/4] END C=10, gamma=1, kernel=rbf;, score=(train=1.000, test=0.997) total time=  53.0s\n",
            "[CV 4/4] END C=10, gamma=1, kernel=rbf;, score=(train=0.999, test=0.998) total time=  55.8s\n",
            "[CV 1/4] END C=10, gamma=1, kernel=linear;, score=(train=1.000, test=0.998) total time=  16.8s\n",
            "[CV 2/4] END C=10, gamma=1, kernel=linear;, score=(train=1.000, test=1.000) total time=  17.1s\n",
            "[CV 3/4] END C=10, gamma=1, kernel=linear;, score=(train=1.000, test=0.998) total time=  17.6s\n",
            "[CV 4/4] END C=10, gamma=1, kernel=linear;, score=(train=1.000, test=0.998) total time=  17.9s\n",
            "[CV 1/4] END C=10, gamma=0.1, kernel=rbf;, score=(train=1.000, test=0.998) total time=  22.6s\n",
            "[CV 2/4] END C=10, gamma=0.1, kernel=rbf;, score=(train=1.000, test=1.000) total time=  23.7s\n",
            "[CV 3/4] END C=10, gamma=0.1, kernel=rbf;, score=(train=1.000, test=0.998) total time=  22.6s\n",
            "[CV 4/4] END C=10, gamma=0.1, kernel=rbf;, score=(train=1.000, test=0.997) total time=  22.0s\n",
            "[CV 1/4] END C=10, gamma=0.1, kernel=linear;, score=(train=1.000, test=0.998) total time=  16.8s\n",
            "[CV 2/4] END C=10, gamma=0.1, kernel=linear;, score=(train=1.000, test=1.000) total time=  16.6s\n",
            "[CV 3/4] END C=10, gamma=0.1, kernel=linear;, score=(train=1.000, test=0.998) total time=  17.7s\n",
            "[CV 4/4] END C=10, gamma=0.1, kernel=linear;, score=(train=1.000, test=0.998) total time=  17.4s\n",
            "[CV 1/4] END C=10, gamma=0.01, kernel=rbf;, score=(train=1.000, test=0.999) total time=  24.4s\n",
            "[CV 2/4] END C=10, gamma=0.01, kernel=rbf;, score=(train=1.000, test=1.000) total time=  25.2s\n",
            "[CV 3/4] END C=10, gamma=0.01, kernel=rbf;, score=(train=1.000, test=0.998) total time=  27.1s\n",
            "[CV 4/4] END C=10, gamma=0.01, kernel=rbf;, score=(train=1.000, test=0.998) total time=  26.3s\n",
            "[CV 1/4] END C=10, gamma=0.01, kernel=linear;, score=(train=1.000, test=0.998) total time=  17.0s\n",
            "[CV 2/4] END C=10, gamma=0.01, kernel=linear;, score=(train=1.000, test=1.000) total time=  17.5s\n",
            "[CV 3/4] END C=10, gamma=0.01, kernel=linear;, score=(train=1.000, test=0.998) total time=  18.4s\n",
            "[CV 4/4] END C=10, gamma=0.01, kernel=linear;, score=(train=1.000, test=0.998) total time=  17.9s\n",
            "[CV 1/4] END C=10, gamma=0.001, kernel=rbf;, score=(train=0.998, test=0.997) total time= 1.0min\n",
            "[CV 2/4] END C=10, gamma=0.001, kernel=rbf;, score=(train=0.998, test=0.999) total time= 1.0min\n",
            "[CV 3/4] END C=10, gamma=0.001, kernel=rbf;, score=(train=0.999, test=0.997) total time= 1.1min\n",
            "[CV 4/4] END C=10, gamma=0.001, kernel=rbf;, score=(train=0.998, test=0.998) total time= 1.1min\n",
            "[CV 1/4] END C=10, gamma=0.001, kernel=linear;, score=(train=1.000, test=0.998) total time=  18.7s\n",
            "[CV 2/4] END C=10, gamma=0.001, kernel=linear;, score=(train=1.000, test=1.000) total time=  18.9s\n",
            "[CV 3/4] END C=10, gamma=0.001, kernel=linear;, score=(train=1.000, test=0.998) total time=  18.5s\n",
            "[CV 4/4] END C=10, gamma=0.001, kernel=linear;, score=(train=1.000, test=0.998) total time=  18.0s\n",
            "[CV 1/4] END C=10, gamma=0.0001, kernel=rbf;, score=(train=0.998, test=0.997) total time= 1.2min\n",
            "[CV 2/4] END C=10, gamma=0.0001, kernel=rbf;, score=(train=0.998, test=0.999) total time= 1.2min\n",
            "[CV 3/4] END C=10, gamma=0.0001, kernel=rbf;, score=(train=0.999, test=0.997) total time= 1.2min\n",
            "[CV 4/4] END C=10, gamma=0.0001, kernel=rbf;, score=(train=0.998, test=0.998) total time= 1.1min\n",
            "[CV 1/4] END C=10, gamma=0.0001, kernel=linear;, score=(train=1.000, test=0.998) total time=  17.0s\n",
            "[CV 2/4] END C=10, gamma=0.0001, kernel=linear;, score=(train=1.000, test=1.000) total time=  17.4s\n",
            "[CV 3/4] END C=10, gamma=0.0001, kernel=linear;, score=(train=1.000, test=0.998) total time=  18.1s\n",
            "[CV 4/4] END C=10, gamma=0.0001, kernel=linear;, score=(train=1.000, test=0.998) total time=  17.9s\n",
            "[CV 1/4] END C=100, gamma=1, kernel=rbf;, score=(train=1.000, test=0.998) total time=  57.8s\n",
            "[CV 2/4] END C=100, gamma=1, kernel=rbf;, score=(train=0.999, test=1.000) total time=  54.9s\n",
            "[CV 3/4] END C=100, gamma=1, kernel=rbf;, score=(train=1.000, test=0.997) total time=  57.8s\n",
            "[CV 4/4] END C=100, gamma=1, kernel=rbf;, score=(train=0.999, test=0.998) total time=  54.7s\n",
            "[CV 1/4] END C=100, gamma=1, kernel=linear;, score=(train=1.000, test=0.998) total time=  17.4s\n",
            "[CV 2/4] END C=100, gamma=1, kernel=linear;, score=(train=1.000, test=1.000) total time=  17.9s\n",
            "[CV 3/4] END C=100, gamma=1, kernel=linear;, score=(train=1.000, test=0.998) total time=  17.8s\n",
            "[CV 4/4] END C=100, gamma=1, kernel=linear;, score=(train=1.000, test=0.998) total time=  18.2s\n",
            "[CV 1/4] END C=100, gamma=0.1, kernel=rbf;, score=(train=1.000, test=0.998) total time=  22.5s\n",
            "[CV 2/4] END C=100, gamma=0.1, kernel=rbf;, score=(train=1.000, test=1.000) total time=  23.0s\n",
            "[CV 3/4] END C=100, gamma=0.1, kernel=rbf;, score=(train=1.000, test=0.998) total time=  24.5s\n",
            "[CV 4/4] END C=100, gamma=0.1, kernel=rbf;, score=(train=1.000, test=0.997) total time=  25.0s\n",
            "[CV 1/4] END C=100, gamma=0.1, kernel=linear;, score=(train=1.000, test=0.998) total time=  17.8s\n",
            "[CV 2/4] END C=100, gamma=0.1, kernel=linear;, score=(train=1.000, test=1.000) total time=  19.2s\n",
            "[CV 3/4] END C=100, gamma=0.1, kernel=linear;, score=(train=1.000, test=0.998) total time=  19.6s\n",
            "[CV 4/4] END C=100, gamma=0.1, kernel=linear;, score=(train=1.000, test=0.998) total time=  19.4s\n",
            "[CV 1/4] END C=100, gamma=0.01, kernel=rbf;, score=(train=1.000, test=0.998) total time=  21.2s\n",
            "[CV 2/4] END C=100, gamma=0.01, kernel=rbf;, score=(train=1.000, test=1.000) total time=  21.8s\n",
            "[CV 3/4] END C=100, gamma=0.01, kernel=rbf;, score=(train=1.000, test=0.998) total time=  21.8s\n",
            "[CV 4/4] END C=100, gamma=0.01, kernel=rbf;, score=(train=1.000, test=0.997) total time=  22.5s\n",
            "[CV 1/4] END C=100, gamma=0.01, kernel=linear;, score=(train=1.000, test=0.998) total time=  18.1s\n",
            "[CV 2/4] END C=100, gamma=0.01, kernel=linear;, score=(train=1.000, test=1.000) total time=  18.0s\n",
            "[CV 3/4] END C=100, gamma=0.01, kernel=linear;, score=(train=1.000, test=0.998) total time=  18.1s\n",
            "[CV 4/4] END C=100, gamma=0.01, kernel=linear;, score=(train=1.000, test=0.998) total time=  18.6s\n",
            "[CV 1/4] END C=100, gamma=0.001, kernel=rbf;, score=(train=1.000, test=0.999) total time=  26.4s\n",
            "[CV 2/4] END C=100, gamma=0.001, kernel=rbf;, score=(train=1.000, test=1.000) total time=  27.5s\n",
            "[CV 3/4] END C=100, gamma=0.001, kernel=rbf;, score=(train=1.000, test=0.998) total time=  29.4s\n",
            "[CV 4/4] END C=100, gamma=0.001, kernel=rbf;, score=(train=1.000, test=0.998) total time=  27.2s\n",
            "[CV 1/4] END C=100, gamma=0.001, kernel=linear;, score=(train=1.000, test=0.998) total time=  17.4s\n",
            "[CV 2/4] END C=100, gamma=0.001, kernel=linear;, score=(train=1.000, test=1.000) total time=  17.8s\n",
            "[CV 3/4] END C=100, gamma=0.001, kernel=linear;, score=(train=1.000, test=0.998) total time=  18.5s\n",
            "[CV 4/4] END C=100, gamma=0.001, kernel=linear;, score=(train=1.000, test=0.998) total time=  19.0s\n",
            "[CV 1/4] END C=100, gamma=0.0001, kernel=rbf;, score=(train=0.998, test=0.997) total time= 1.0min\n",
            "[CV 2/4] END C=100, gamma=0.0001, kernel=rbf;, score=(train=0.998, test=0.999) total time= 1.1min\n",
            "[CV 3/4] END C=100, gamma=0.0001, kernel=rbf;, score=(train=0.999, test=0.997) total time= 1.1min\n",
            "[CV 4/4] END C=100, gamma=0.0001, kernel=rbf;, score=(train=0.998, test=0.998) total time= 1.1min\n",
            "[CV 1/4] END C=100, gamma=0.0001, kernel=linear;, score=(train=1.000, test=0.998) total time=  18.0s\n",
            "[CV 2/4] END C=100, gamma=0.0001, kernel=linear;, score=(train=1.000, test=1.000) total time=  18.1s\n",
            "[CV 3/4] END C=100, gamma=0.0001, kernel=linear;, score=(train=1.000, test=0.998) total time=  19.6s\n",
            "[CV 4/4] END C=100, gamma=0.0001, kernel=linear;, score=(train=1.000, test=0.998) total time=  19.2s\n",
            "[CV 1/4] END C=1000, gamma=1, kernel=rbf;, score=(train=1.000, test=0.998) total time=  59.7s\n",
            "[CV 2/4] END C=1000, gamma=1, kernel=rbf;, score=(train=0.999, test=1.000) total time= 1.0min\n",
            "[CV 3/4] END C=1000, gamma=1, kernel=rbf;, score=(train=1.000, test=0.997) total time=  59.9s\n",
            "[CV 4/4] END C=1000, gamma=1, kernel=rbf;, score=(train=0.999, test=0.998) total time=  59.7s\n",
            "[CV 1/4] END C=1000, gamma=1, kernel=linear;, score=(train=1.000, test=0.998) total time=  18.2s\n",
            "[CV 2/4] END C=1000, gamma=1, kernel=linear;, score=(train=1.000, test=1.000) total time=  19.0s\n",
            "[CV 3/4] END C=1000, gamma=1, kernel=linear;, score=(train=1.000, test=0.998) total time=  19.0s\n",
            "[CV 4/4] END C=1000, gamma=1, kernel=linear;, score=(train=1.000, test=0.998) total time=  18.5s\n",
            "[CV 1/4] END C=1000, gamma=0.1, kernel=rbf;, score=(train=1.000, test=0.998) total time=  24.7s\n",
            "[CV 2/4] END C=1000, gamma=0.1, kernel=rbf;, score=(train=1.000, test=1.000) total time=  26.2s\n",
            "[CV 3/4] END C=1000, gamma=0.1, kernel=rbf;, score=(train=1.000, test=0.998) total time=  25.0s\n",
            "[CV 4/4] END C=1000, gamma=0.1, kernel=rbf;, score=(train=1.000, test=0.997) total time=  26.0s\n",
            "[CV 1/4] END C=1000, gamma=0.1, kernel=linear;, score=(train=1.000, test=0.998) total time=  18.2s\n",
            "[CV 2/4] END C=1000, gamma=0.1, kernel=linear;, score=(train=1.000, test=1.000) total time=  18.4s\n",
            "[CV 3/4] END C=1000, gamma=0.1, kernel=linear;, score=(train=1.000, test=0.998) total time=  19.1s\n",
            "[CV 4/4] END C=1000, gamma=0.1, kernel=linear;, score=(train=1.000, test=0.998) total time=  18.7s\n",
            "[CV 1/4] END C=1000, gamma=0.01, kernel=rbf;, score=(train=1.000, test=0.998) total time=  21.9s\n",
            "[CV 2/4] END C=1000, gamma=0.01, kernel=rbf;, score=(train=1.000, test=1.000) total time=  22.3s\n",
            "[CV 3/4] END C=1000, gamma=0.01, kernel=rbf;, score=(train=1.000, test=0.998) total time=  22.1s\n",
            "[CV 4/4] END C=1000, gamma=0.01, kernel=rbf;, score=(train=1.000, test=0.997) total time=  23.1s\n",
            "[CV 1/4] END C=1000, gamma=0.01, kernel=linear;, score=(train=1.000, test=0.998) total time=  18.6s\n",
            "[CV 2/4] END C=1000, gamma=0.01, kernel=linear;, score=(train=1.000, test=1.000) total time=  18.9s\n",
            "[CV 3/4] END C=1000, gamma=0.01, kernel=linear;, score=(train=1.000, test=0.998) total time=  19.6s\n",
            "[CV 4/4] END C=1000, gamma=0.01, kernel=linear;, score=(train=1.000, test=0.998) total time=  19.8s\n",
            "[CV 1/4] END C=1000, gamma=0.001, kernel=rbf;, score=(train=1.000, test=0.999) total time=  21.5s\n",
            "[CV 2/4] END C=1000, gamma=0.001, kernel=rbf;, score=(train=1.000, test=1.000) total time=  23.4s\n",
            "[CV 3/4] END C=1000, gamma=0.001, kernel=rbf;, score=(train=1.000, test=0.998) total time=  23.3s\n",
            "[CV 4/4] END C=1000, gamma=0.001, kernel=rbf;, score=(train=1.000, test=0.997) total time=  22.0s\n",
            "[CV 1/4] END C=1000, gamma=0.001, kernel=linear;, score=(train=1.000, test=0.998) total time=  18.3s\n",
            "[CV 2/4] END C=1000, gamma=0.001, kernel=linear;, score=(train=1.000, test=1.000) total time=  18.7s\n",
            "[CV 3/4] END C=1000, gamma=0.001, kernel=linear;, score=(train=1.000, test=0.998) total time=  19.0s\n",
            "[CV 4/4] END C=1000, gamma=0.001, kernel=linear;, score=(train=1.000, test=0.998) total time=  19.1s\n",
            "[CV 1/4] END C=1000, gamma=0.0001, kernel=rbf;, score=(train=1.000, test=0.999) total time=  27.4s\n",
            "[CV 2/4] END C=1000, gamma=0.0001, kernel=rbf;, score=(train=1.000, test=1.000) total time=  27.4s\n",
            "[CV 3/4] END C=1000, gamma=0.0001, kernel=rbf;, score=(train=1.000, test=0.998) total time=  29.1s\n",
            "[CV 4/4] END C=1000, gamma=0.0001, kernel=rbf;, score=(train=1.000, test=0.997) total time=  27.6s\n",
            "[CV 1/4] END C=1000, gamma=0.0001, kernel=linear;, score=(train=1.000, test=0.998) total time=  16.8s\n",
            "[CV 2/4] END C=1000, gamma=0.0001, kernel=linear;, score=(train=1.000, test=1.000) total time=  17.5s\n",
            "[CV 3/4] END C=1000, gamma=0.0001, kernel=linear;, score=(train=1.000, test=0.998) total time=  18.5s\n",
            "[CV 4/4] END C=1000, gamma=0.0001, kernel=linear;, score=(train=1.000, test=0.998) total time=  17.9s\n"
          ]
        },
        {
          "output_type": "execute_result",
          "data": {
            "text/plain": [
              "GridSearchCV(cv=4, estimator=SVC(),\n",
              "             param_grid={'C': [0.1, 1, 10, 100, 1000],\n",
              "                         'gamma': [1, 0.1, 0.01, 0.001, 0.0001],\n",
              "                         'kernel': ['rbf', 'linear']},\n",
              "             return_train_score=True, scoring='roc_auc', verbose=3)"
            ]
          },
          "metadata": {},
          "execution_count": 46
        }
      ]
    },
    {
      "cell_type": "code",
      "source": [
        "def inference(data,predictor):\n",
        "  corpus=[]\n",
        "  for i in range(0,data.shape[0]):\n",
        "    text=re.sub('[^a-zA-Z]',' ',data[i])\n",
        "    text=text.lower()\n",
        "    text=text.split()\n",
        "    text= [ w for w in text if not w in stop]\n",
        "    ps =PorterStemmer()\n",
        "    stemmed_tokens= [ps.stem(words) for words in text]\n",
        "    corpus.append(' '.join(stemmed_tokens))\n",
        "  test_X= tfidf.transform(corpus)\n",
        "  pred= predictor.predict(test_X)\n",
        "  return pred"
      ],
      "metadata": {
        "id": "CQV04R2PnpF9"
      },
      "execution_count": 47,
      "outputs": []
    },
    {
      "cell_type": "code",
      "source": [
        "pred= inference(X_test,grid)"
      ],
      "metadata": {
        "id": "xpDKQFZoUt6j"
      },
      "execution_count": 48,
      "outputs": []
    },
    {
      "cell_type": "code",
      "source": [
        "print(classification_report(y_test,pred))"
      ],
      "metadata": {
        "colab": {
          "base_uri": "https://localhost:8080/"
        },
        "id": "kvbmyXupU0Li",
        "outputId": "0ab365a3-78b9-490c-ada2-fcbff864c3f1"
      },
      "execution_count": 50,
      "outputs": [
        {
          "output_type": "stream",
          "name": "stdout",
          "text": [
            "              precision    recall  f1-score   support\n",
            "\n",
            "     Disease       0.98      0.98      0.98      1220\n",
            "  No Disease       0.99      0.99      0.99      3300\n",
            "\n",
            "    accuracy                           0.99      4520\n",
            "   macro avg       0.99      0.99      0.99      4520\n",
            "weighted avg       0.99      0.99      0.99      4520\n",
            "\n"
          ]
        }
      ]
    },
    {
      "cell_type": "code",
      "source": [
        "X_test[0]"
      ],
      "metadata": {
        "colab": {
          "base_uri": "https://localhost:8080/",
          "height": 53
        },
        "id": "GFLaV0fvWtVT",
        "outputId": "aee7f097-9e89-4645-d53b-c102be363b15"
      },
      "execution_count": 69,
      "outputs": [
        {
          "output_type": "execute_result",
          "data": {
            "text/plain": [
              "'Bathysolea is a genus of soles native to the eastern Atlantic and western Indian oceans. There are currently four recognized species in this genus:[1]'"
            ],
            "application/vnd.google.colaboratory.intrinsic+json": {
              "type": "string"
            }
          },
          "metadata": {},
          "execution_count": 69
        }
      ]
    },
    {
      "cell_type": "code",
      "source": [
        "pred[0]"
      ],
      "metadata": {
        "colab": {
          "base_uri": "https://localhost:8080/",
          "height": 35
        },
        "id": "97WusGwUWT4g",
        "outputId": "c384267f-db33-4169-f012-56b732b2796c"
      },
      "execution_count": 70,
      "outputs": [
        {
          "output_type": "execute_result",
          "data": {
            "text/plain": [
              "'No Disease'"
            ],
            "application/vnd.google.colaboratory.intrinsic+json": {
              "type": "string"
            }
          },
          "metadata": {},
          "execution_count": 70
        }
      ]
    },
    {
      "cell_type": "code",
      "source": [
        ""
      ],
      "metadata": {
        "id": "qXHKYu2OYDSC"
      },
      "execution_count": null,
      "outputs": []
    }
  ],
  "metadata": {
    "colab": {
      "name": "Task1.ipynb",
      "provenance": [],
      "collapsed_sections": []
    },
    "kernelspec": {
      "display_name": "Python 3",
      "name": "python3"
    },
    "language_info": {
      "name": "python"
    }
  },
  "nbformat": 4,
  "nbformat_minor": 0
}